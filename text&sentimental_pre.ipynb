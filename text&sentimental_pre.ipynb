{
 "cells": [
  {
   "cell_type": "code",
   "execution_count": 1,
   "metadata": {},
   "outputs": [
    {
     "name": "stdout",
     "output_type": "stream",
     "text": [
      "Requirement already satisfied: contractions in c:\\users\\kizorselvaraj\\anaconda3\\lib\\site-packages (0.1.73)\n",
      "Requirement already satisfied: textsearch>=0.0.21 in c:\\users\\kizorselvaraj\\anaconda3\\lib\\site-packages (from contractions) (0.0.24)\n",
      "Requirement already satisfied: anyascii in c:\\users\\kizorselvaraj\\anaconda3\\lib\\site-packages (from textsearch>=0.0.21->contractions) (0.3.2)\n",
      "Requirement already satisfied: pyahocorasick in c:\\users\\kizorselvaraj\\anaconda3\\lib\\site-packages (from textsearch>=0.0.21->contractions) (2.0.0)\n",
      "Note: you may need to restart the kernel to use updated packages.\n"
     ]
    }
   ],
   "source": [
    "pip install contractions"
   ]
  },
  {
   "cell_type": "code",
   "execution_count": 2,
   "metadata": {},
   "outputs": [
    {
     "name": "stdout",
     "output_type": "stream",
     "text": [
      "Requirement already satisfied: textblob in c:\\users\\kizorselvaraj\\anaconda3\\lib\\site-packages (0.18.0.post0)\n",
      "Requirement already satisfied: nltk>=3.8 in c:\\users\\kizorselvaraj\\anaconda3\\lib\\site-packages (from textblob) (3.8.1)\n",
      "Requirement already satisfied: click in c:\\users\\kizorselvaraj\\anaconda3\\lib\\site-packages (from nltk>=3.8->textblob) (8.0.4)\n",
      "Requirement already satisfied: joblib in c:\\users\\kizorselvaraj\\anaconda3\\lib\\site-packages (from nltk>=3.8->textblob) (1.2.0)\n",
      "Requirement already satisfied: regex>=2021.8.3 in c:\\users\\kizorselvaraj\\anaconda3\\lib\\site-packages (from nltk>=3.8->textblob) (2022.7.9)\n",
      "Requirement already satisfied: tqdm in c:\\users\\kizorselvaraj\\anaconda3\\lib\\site-packages (from nltk>=3.8->textblob) (4.65.0)\n",
      "Requirement already satisfied: colorama in c:\\users\\kizorselvaraj\\anaconda3\\lib\\site-packages (from click->nltk>=3.8->textblob) (0.4.6)\n",
      "Note: you may need to restart the kernel to use updated packages.\n"
     ]
    }
   ],
   "source": [
    "pip install textblob"
   ]
  },
  {
   "cell_type": "code",
   "execution_count": 3,
   "metadata": {},
   "outputs": [],
   "source": [
    "import nltk\n",
    "from nltk import word_tokenize,WordNetLemmatizer,pos_tag,PorterStemmer\n",
    "from nltk.corpus import stopwords\n",
    "from contractions import contractions_dict\n",
    "import contractions\n",
    "import re\n",
    "import string\n",
    "from textblob import TextBlob\n",
    "from collections import Counter\n",
    "import spacy\n",
    "from nltk.sentiment import SentimentIntensityAnalyzer\n",
    "import seaborn as sns"
   ]
  },
  {
   "cell_type": "code",
   "execution_count": 4,
   "metadata": {},
   "outputs": [],
   "source": [
    "# Text for NLP pre-processsing \n",
    "text=\"#Artificial fascinating! (AI) is revolutionizing various industries, including healthcare, finance, and technology. AI systems can analyze large datasets, make predictions, and automate tasks. Natural Language Processing (NLP) is a crucial component of AI, enabling machines to understand, interpret, and generate human-like language. NLP applications include sentiment analysis, chatbots, and language translation. As technology advances, the role of AI and NLP in shaping the future becomes increasingly significant.\""
   ]
  },
  {
   "cell_type": "code",
   "execution_count": 5,
   "metadata": {},
   "outputs": [],
   "source": [
    "# we have several Pre-processing steps in NLP \n",
    "# let us demonstrate the basic 10 steps\n",
    "\n",
    "# Remove punctuation - string.punctuation  \n",
    "# Lowercase = lower()\n",
    "# word tokenization - word_tokenize import nltk.tokenize\n",
    "# stop word - stopword() import nltk.corpus \n",
    "# remove number - import re\n",
    "#handling contraction - from constraction import constraction\n",
    "#spell check - from textblob import textBlob\n",
    "#part of speech- from nltk import pos_tag,word tokenize\n",
    "#lemmatization - from nltk.stem import wordnetlemmatizer \n",
    "#stemming - from nltk.stem import porterstem\n",
    "#removing URL\n",
    "#removing SPL character \n",
    "#Removing white space\n",
    "#remove Frequence word - from collection import counter"
   ]
  },
  {
   "cell_type": "code",
   "execution_count": 6,
   "metadata": {},
   "outputs": [
    {
     "name": "stdout",
     "output_type": "stream",
     "text": [
      "Artificial fascinating AI is revolutionizing various industries including healthcare finance and technology AI systems can analyze large datasets make predictions and automate tasks Natural Language Processing NLP is a crucial component of AI enabling machines to understand interpret and generate humanlike language NLP applications include sentiment analysis chatbots and language translation As technology advances the role of AI and NLP in shaping the future becomes increasingly significant\n",
      "#artificial fascinating! (ai) is revolutionizing various industries, including healthcare, finance, and technology. ai systems can analyze large datasets, make predictions, and automate tasks. natural language processing (nlp) is a crucial component of ai, enabling machines to understand, interpret, and generate human-like language. nlp applications include sentiment analysis, chatbots, and language translation. as technology advances, the role of ai and nlp in shaping the future becomes increasingly significant.\n",
      "['#', 'Artificial', 'fascinating', '!', '(', 'AI', ')', 'is', 'revolutionizing', 'various', 'industries', ',', 'including', 'healthcare', ',', 'finance', ',', 'and', 'technology', '.', 'AI', 'systems', 'can', 'analyze', 'large', 'datasets', ',', 'make', 'predictions', ',', 'and', 'automate', 'tasks', '.', 'Natural', 'Language', 'Processing', '(', 'NLP', ')', 'is', 'a', 'crucial', 'component', 'of', 'AI', ',', 'enabling', 'machines', 'to', 'understand', ',', 'interpret', ',', 'and', 'generate', 'human-like', 'language', '.', 'NLP', 'applications', 'include', 'sentiment', 'analysis', ',', 'chatbots', ',', 'and', 'language', 'translation', '.', 'As', 'technology', 'advances', ',', 'the', 'role', 'of', 'AI', 'and', 'NLP', 'in', 'shaping', 'the', 'future', 'becomes', 'increasingly', 'significant', '.']\n",
      "[('#', '#'), ('Artificial', 'NNP'), ('fascinating', 'NN'), ('!', '.'), ('(', '('), ('AI', 'NNP'), (')', ')'), ('is', 'VBZ'), ('revolutionizing', 'VBG'), ('various', 'JJ'), ('industries', 'NNS'), (',', ','), ('including', 'VBG'), ('healthcare', 'NN'), (',', ','), ('finance', 'NN'), (',', ','), ('and', 'CC'), ('technology', 'NN'), ('.', '.'), ('AI', 'NNP'), ('systems', 'NNS'), ('can', 'MD'), ('analyze', 'VB'), ('large', 'JJ'), ('datasets', 'NNS'), (',', ','), ('make', 'VBP'), ('predictions', 'NNS'), (',', ','), ('and', 'CC'), ('automate', 'JJ'), ('tasks', 'NNS'), ('.', '.'), ('Natural', 'JJ'), ('Language', 'NN'), ('Processing', 'NNP'), ('(', '('), ('NLP', 'NNP'), (')', ')'), ('is', 'VBZ'), ('a', 'DT'), ('crucial', 'JJ'), ('component', 'NN'), ('of', 'IN'), ('AI', 'NNP'), (',', ','), ('enabling', 'VBG'), ('machines', 'NNS'), ('to', 'TO'), ('understand', 'VB'), (',', ','), ('interpret', 'VB'), (',', ','), ('and', 'CC'), ('generate', 'VB'), ('human-like', 'JJ'), ('language', 'NN'), ('.', '.'), ('NLP', 'NNP'), ('applications', 'NNS'), ('include', 'VBP'), ('sentiment', 'JJ'), ('analysis', 'NN'), (',', ','), ('chatbots', 'NNS'), (',', ','), ('and', 'CC'), ('language', 'NN'), ('translation', 'NN'), ('.', '.'), ('As', 'IN'), ('technology', 'NN'), ('advances', 'NNS'), (',', ','), ('the', 'DT'), ('role', 'NN'), ('of', 'IN'), ('AI', 'NNP'), ('and', 'CC'), ('NLP', 'NNP'), ('in', 'IN'), ('shaping', 'VBG'), ('the', 'DT'), ('future', 'NN'), ('becomes', 'VBZ'), ('increasingly', 'RB'), ('significant', 'JJ'), ('.', '.')]\n"
     ]
    }
   ],
   "source": [
    "#NLTK PRE_Processing step\n",
    "#direct calling pre-processing\n",
    "# remove punctuation \n",
    "re_pun=text.translate(str.maketrans(\"\",\"\",string.punctuation))\n",
    "print(re_pun)\n",
    "#lowercase\n",
    "lc=text.lower()\n",
    "print(lc)\n",
    "#word_tokenize\n",
    "wt=word_tokenize(text)\n",
    "print(wt)\n",
    "#part of speech\n",
    "ps=pos_tag(wt)\n",
    "print(ps)"
   ]
  },
  {
   "cell_type": "code",
   "execution_count": 7,
   "metadata": {},
   "outputs": [
    {
     "name": "stdout",
     "output_type": "stream",
     "text": [
      "['#', 'Artificial', 'fascinating', '!', '(', 'AI', ')', 'revolutionizing', 'various', 'industries', ',', 'including', 'healthcare', ',', 'finance', ',', 'technology', '.', 'AI', 'systems', 'analyze', 'large', 'datasets', ',', 'make', 'predictions', ',', 'automate', 'tasks', '.', 'Natural', 'Language', 'Processing', '(', 'NLP', ')', 'crucial', 'component', 'AI', ',', 'enabling', 'machines', 'understand', ',', 'interpret', ',', 'generate', 'human-like', 'language', '.', 'NLP', 'applications', 'include', 'sentiment', 'analysis', ',', 'chatbots', ',', 'language', 'translation', '.', 'As', 'technology', 'advances', ',', 'role', 'AI', 'NLP', 'shaping', 'future', 'becomes', 'increasingly', 'significant', '.']\n",
      "['#', 'artifici', 'fascin', '!', '(', 'ai', ')', 'is', 'revolution', 'variou', 'industri', ',', 'includ', 'healthcar', ',', 'financ', ',', 'and', 'technolog', '.', 'ai', 'system', 'can', 'analyz', 'larg', 'dataset', ',', 'make', 'predict', ',', 'and', 'autom', 'task', '.', 'natur', 'languag', 'process', '(', 'nlp', ')', 'is', 'a', 'crucial', 'compon', 'of', 'ai', ',', 'enabl', 'machin', 'to', 'understand', ',', 'interpret', ',', 'and', 'gener', 'human-lik', 'languag', '.', 'nlp', 'applic', 'includ', 'sentiment', 'analysi', ',', 'chatbot', ',', 'and', 'languag', 'translat', '.', 'as', 'technolog', 'advanc', ',', 'the', 'role', 'of', 'ai', 'and', 'nlp', 'in', 'shape', 'the', 'futur', 'becom', 'increasingli', 'signific', '.']\n",
      "['#', 'Artificial', 'fascinating', '!', '(', 'AI', ')', 'is', 'revolutionizing', 'various', 'industry', ',', 'including', 'healthcare', ',', 'finance', ',', 'and', 'technology', '.', 'AI', 'system', 'can', 'analyze', 'large', 'datasets', ',', 'make', 'prediction', ',', 'and', 'automate', 'task', '.', 'Natural', 'Language', 'Processing', '(', 'NLP', ')', 'is', 'a', 'crucial', 'component', 'of', 'AI', ',', 'enabling', 'machine', 'to', 'understand', ',', 'interpret', ',', 'and', 'generate', 'human-like', 'language', '.', 'NLP', 'application', 'include', 'sentiment', 'analysis', ',', 'chatbots', ',', 'and', 'language', 'translation', '.', 'As', 'technology', 'advance', ',', 'the', 'role', 'of', 'AI', 'and', 'NLP', 'in', 'shaping', 'the', 'future', 'becomes', 'increasingly', 'significant', '.']\n",
      "['#', 'Artificial', 'fascinating', '!', '(', 'AI', ')', 'revolutionizing', 'various', 'industries', ',', 'including', 'healthcare', ',', 'finance', ',', 'technology', '.', 'AI', 'systems', 'analyze', 'large', 'datasets', ',', 'make', 'predictions', ',', 'automate', 'tasks', '.', 'Natural', 'Language', 'Processing', '(', 'NLP', ')', 'crucial', 'component', 'AI', ',', 'enabling', 'machines', 'understand', ',', 'interpret', ',', 'generate', 'human-like', 'language', '.', 'NLP', 'applications', 'include', 'sentiment', 'analysis', ',', 'chatbots', ',', 'language', 'translation', '.', 'As', 'technology', 'advances', ',', 'role', 'AI', 'NLP', 'shaping', 'future', 'becomes', 'increasingly', 'significant', '.']\n",
      "['#', 'Artificial', 'fascinating', '!', '(', 'AI', ')', 'is', 'revolutionizing', 'various', 'industries', 'including', 'healthcare', 'finance', 'and', 'technology', 'AI', 'systems', 'can', 'analyze', 'large', 'datasets', 'make', 'predictions', 'and', 'automate', 'tasks', 'Natural', 'Language', 'Processing', '(', 'NLP', ')', 'is', 'a', 'crucial', 'component', 'of', 'AI', 'enabling', 'machines', 'to', 'understand', 'interpret', 'and', 'generate', 'human-like', 'language', 'NLP', 'applications', 'include', 'sentiment', 'analysis', 'chatbots', 'and', 'language', 'translation', 'As', 'technology', 'advances', 'the', 'role', 'of', 'AI', 'and', 'NLP', 'in', 'shaping', 'the', 'future', 'becomes', 'increasingly', 'significant']\n"
     ]
    }
   ],
   "source": [
    "#for loop pre-processing\n",
    "#stop word\n",
    "word=set(stopwords.words(\"english\"))\n",
    "r_sw=[i for i in wt if i not in word]\n",
    "print(r_sw)\n",
    "#stem\n",
    "ste=PorterStemmer()\n",
    "stem=[ste.stem(i) for i in wt]\n",
    "print(stem)\n",
    "\n",
    "#leme\n",
    "le=WordNetLemmatizer()\n",
    "leme=[le.lemmatize(i) for i in wt]\n",
    "print(leme)\n",
    "\n",
    "#show high frequent words\n",
    "print(r_sw)\n",
    "#find count\n",
    "coun_word=Counter(r_sw)\n",
    "ther=4\n",
    "hw_word=[i for i,count in coun_word.items()if count>ther]\n",
    "remove_hw=[i for i in wt if i not in hw_word]\n",
    "print(remove_hw)"
   ]
  },
  {
   "cell_type": "code",
   "execution_count": 8,
   "metadata": {},
   "outputs": [
    {
     "name": "stdout",
     "output_type": "stream",
     "text": [
      ",\n",
      ".\n"
     ]
    }
   ],
   "source": [
    "coun_word=Counter(r_sw)\n",
    "ther=4\n",
    "for i,count in coun_word.items():\n",
    "    if count>ther:\n",
    "        print(i)"
   ]
  },
  {
   "cell_type": "code",
   "execution_count": null,
   "metadata": {},
   "outputs": [],
   "source": []
  },
  {
   "cell_type": "code",
   "execution_count": null,
   "metadata": {},
   "outputs": [],
   "source": []
  },
  {
   "cell_type": "code",
   "execution_count": null,
   "metadata": {},
   "outputs": [],
   "source": []
  }
 ],
 "metadata": {
  "kernelspec": {
   "display_name": "base",
   "language": "python",
   "name": "python3"
  },
  "language_info": {
   "codemirror_mode": {
    "name": "ipython",
    "version": 3
   },
   "file_extension": ".py",
   "mimetype": "text/x-python",
   "name": "python",
   "nbconvert_exporter": "python",
   "pygments_lexer": "ipython3",
   "version": "3.11.5"
  }
 },
 "nbformat": 4,
 "nbformat_minor": 2
}
